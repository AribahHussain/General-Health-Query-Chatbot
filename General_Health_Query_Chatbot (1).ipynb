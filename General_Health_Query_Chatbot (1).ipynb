{
  "cells": [
    {
      "cell_type": "code",
      "execution_count": null,
      "metadata": {
        "colab": {
          "background_save": true,
          "base_uri": "https://localhost:8080/"
        },
        "id": "88x_AEOCIsjy",
        "outputId": "963f874f-7346-4131-e4d8-19e331e82935"
      },
      "outputs": [
        {
          "name": "stdout",
          "output_type": "stream",
          "text": [
            "\u001b[2K   \u001b[90m━━━━━━━━━━━━━━━━━━━━━━━━━━━━━━━━━━━━━━━━\u001b[0m \u001b[32m363.4/363.4 MB\u001b[0m \u001b[31m3.8 MB/s\u001b[0m eta \u001b[36m0:00:00\u001b[0m\n",
            "\u001b[2K   \u001b[90m━━━━━━━━━━━━━━━━━━━━━━━━━━━━━━━━━━━━━━━━\u001b[0m \u001b[32m13.8/13.8 MB\u001b[0m \u001b[31m27.4 MB/s\u001b[0m eta \u001b[36m0:00:00\u001b[0m\n",
            "\u001b[2K   \u001b[90m━━━━━━━━━━━━━━━━━━━━━━━━━━━━━━━━━━━━━━━━\u001b[0m \u001b[32m24.6/24.6 MB\u001b[0m \u001b[31m28.6 MB/s\u001b[0m eta \u001b[36m0:00:00\u001b[0m\n",
            "\u001b[2K   \u001b[90m━━━━━━━━━━━━━━━━━━━━━━━━━━━━━━━━━━━━━━━━\u001b[0m \u001b[32m883.7/883.7 kB\u001b[0m \u001b[31m21.9 MB/s\u001b[0m eta \u001b[36m0:00:00\u001b[0m\n",
            "\u001b[2K   \u001b[90m━━━━━━━━━━━━━━━━━━━━━━━━━━━━━━━━━━━━━━━━\u001b[0m \u001b[32m664.8/664.8 MB\u001b[0m \u001b[31m1.9 MB/s\u001b[0m eta \u001b[36m0:00:00\u001b[0m\n",
            "\u001b[2K   \u001b[90m━━━━━━━━━━━━━━━━━━━━━━━━━━━━━━━━━━━━━━━━\u001b[0m \u001b[32m211.5/211.5 MB\u001b[0m \u001b[31m6.9 MB/s\u001b[0m eta \u001b[36m0:00:00\u001b[0m\n",
            "\u001b[2K   \u001b[90m━━━━━━━━━━━━━━━━━━━━━━━━━━━━━━━━━━━━━━━━\u001b[0m \u001b[32m56.3/56.3 MB\u001b[0m \u001b[31m10.6 MB/s\u001b[0m eta \u001b[36m0:00:00\u001b[0m\n",
            "\u001b[2K   \u001b[90m━━━━━━━━━━━━━━━━━━━━━━━━━━━━━━━━━━━━━━━━\u001b[0m \u001b[32m127.9/127.9 MB\u001b[0m \u001b[31m7.3 MB/s\u001b[0m eta \u001b[36m0:00:00\u001b[0m\n",
            "\u001b[2K   \u001b[90m━━━━━━━━━━━━━━━━━━━━━━━━━━━━━━━━━━━━━━━━\u001b[0m \u001b[32m207.5/207.5 MB\u001b[0m \u001b[31m5.5 MB/s\u001b[0m eta \u001b[36m0:00:00\u001b[0m\n",
            "\u001b[2K   \u001b[90m━━━━━━━━━━━━━━━━━━━━━━━━━━━━━━━━━━━━━━━━\u001b[0m \u001b[32m21.1/21.1 MB\u001b[0m \u001b[31m46.3 MB/s\u001b[0m eta \u001b[36m0:00:00\u001b[0m\n",
            "\u001b[?25h"
          ]
        }
      ],
      "source": [
        "!pip install openai transformers accelerate --quiet"
      ]
    },
    {
      "cell_type": "code",
      "execution_count": null,
      "metadata": {
        "colab": {
          "background_save": true
        },
        "id": "l03jQwTBFlDc"
      },
      "outputs": [],
      "source": [
        "import os\n",
        "from transformers import pipeline\n",
        "import openai"
      ]
    },
    {
      "cell_type": "code",
      "execution_count": null,
      "metadata": {
        "colab": {
          "background_save": true
        },
        "id": "zyIctXj-DM4_"
      },
      "outputs": [],
      "source": [
        "use_openai = False\n",
        "\n",
        "openai.api_key = \"sk-...\"\n",
        "\n",
        "unsafe_keywords = [\"cure cancer\", \"dosage\", \"overdose\", \"emergency\", \"prescribe\", \"treatment for\"]"
      ]
    },
    {
      "cell_type": "code",
      "execution_count": null,
      "metadata": {
        "id": "UHXqxQicDi-C"
      },
      "outputs": [],
      "source": [
        "unsafe_keywords = [\"cure cancer\", \"dosage\", \"overdose\", \"emergency\", \"prescribe\", \"treatment for\"]"
      ]
    },
    {
      "cell_type": "code",
      "execution_count": null,
      "metadata": {
        "id": "Kmz-HywbEt7G"
      },
      "outputs": [],
      "source": [
        "def is_safe_query(user_input):\n",
        "    for word in unsafe_keywords:\n",
        "        if word.lower() in user_input.lower():\n",
        "            return False\n",
        "    return True"
      ]
    },
    {
      "cell_type": "code",
      "execution_count": null,
      "metadata": {
        "colab": {
          "base_uri": "https://localhost:8080/",
          "height": 188,
          "referenced_widgets": [
            "17e64393138e42f0a8f495c22f771497",
            "b39759d443674f08b525e5d4f0d57f94",
            "47aa0af21907433c9542d64c352d6d94",
            "538826f406fa4380a4544c0957dff55b",
            "59faebbe14da44459f9d3920adb737d5",
            "08b2be794a9a414289b1683af407cf67",
            "c502a8d639a040e0807825d875b6b9f8",
            "f526e6d64a964495855e074b68f93529",
            "19fdc180ed344cd8ad8e74eed8a8f813",
            "b518e8ccecd04cc9a896af81d92ec114",
            "5c6c092e94524cc5afaf475990268468"
          ]
        },
        "id": "GoRk-_jAEy1l",
        "outputId": "85f2d44c-8154-4a37-c66b-4249d509cd3c"
      },
      "outputs": [
        {
          "name": "stderr",
          "output_type": "stream",
          "text": [
            "/usr/local/lib/python3.11/dist-packages/huggingface_hub/utils/_auth.py:94: UserWarning: \n",
            "The secret `HF_TOKEN` does not exist in your Colab secrets.\n",
            "To authenticate with the Hugging Face Hub, create a token in your settings tab (https://huggingface.co/settings/tokens), set it as secret in your Google Colab and restart your session.\n",
            "You will be able to reuse this secret in all of your notebooks.\n",
            "Please note that authentication is recommended but still optional to access public models or datasets.\n",
            "  warnings.warn(\n"
          ]
        },
        {
          "data": {
            "application/vnd.jupyter.widget-view+json": {
              "model_id": "17e64393138e42f0a8f495c22f771497",
              "version_major": 2,
              "version_minor": 0
            },
            "text/plain": [
              "Loading checkpoint shards:   0%|          | 0/8 [00:00<?, ?it/s]"
            ]
          },
          "metadata": {},
          "output_type": "display_data"
        },
        {
          "name": "stderr",
          "output_type": "stream",
          "text": [
            "WARNING:accelerate.big_modeling:Some parameters are on the meta device because they were offloaded to the disk and cpu.\n",
            "Device set to use cuda:0\n"
          ]
        }
      ],
      "source": [
        "!pip install transformers accelerate --quiet\n",
        "\n",
        "from transformers import pipeline\n",
        "\n",
        "generator = pipeline(\"text-generation\", model=\"HuggingFaceH4/zephyr-7b-beta\", device_map=\"auto\")\n",
        "\n",
        "def format_hf_prompt(user_input):\n",
        "    return f\"\"\"### Instruction:\n",
        "You are a helpful and friendly medical assistant.\n",
        "Only provide general, factual, and safe health information.\n",
        "Do NOT give any medical diagnosis, treatment, dosage, or emergency advice.\n",
        "Always advise the user to consult a doctor.\n",
        "\n",
        "### User:\n",
        "{user_input}\n",
        "\n",
        "### Assistant:\n",
        "\"\"\"\n",
        "\n",
        "def get_health_response(user_input):\n",
        "    prompt = format_hf_prompt(user_input)\n",
        "    result = generator(prompt, max_new_tokens=200, temperature=0.5)[0]['generated_text']\n",
        "    reply = result.split(\"### Assistant:\")[-1].strip()\n",
        "    return reply"
      ]
    },
    {
      "cell_type": "code",
      "execution_count": null,
      "metadata": {
        "id": "lNtwa4FuKvVY"
      },
      "outputs": [],
      "source": [
        "def format_openai_prompt(user_input):\n",
        "    return f\"\"\"You are a helpful and friendly medical assistant.\n",
        "Your goal is to provide general, factual, and safe health information.\n",
        "Do NOT give any diagnosis, treatment, dosage, or emergency advice.\n",
        "Always advise users to consult a doctor for medical decisions.\n",
        "\n",
        "User: {user_input}\n",
        "Assistant:\"\"\"\n",
        "\n",
        "def format_hf_prompt(user_input):\n",
        "    return f\"\"\"### Instruction:\n",
        "You are a helpful and friendly medical assistant.\n",
        "Only provide general, factual, and safe health information.\n",
        "Do NOT give any medical diagnosis, treatment, dosage, or emergency advice.\n",
        "Always advise the user to consult a doctor.\n",
        "\n",
        "### User:\n",
        "{user_input}\n",
        "\n",
        "### Assistant:\n",
        "\"\"\"\n",
        "\n",
        "if not use_openai:\n",
        "    from transformers import pipeline\n",
        "    generator = pipeline(\"text-generation\", model=\"HuggingFaceH4/zephyr-7b-beta\", device_map=\"auto\")\n",
        "\n",
        "def get_health_response(user_input):\n",
        "    if not is_safe_query(user_input):\n",
        "        return \"I'm sorry, I can't provide medical treatment or emergency advice. Please consult a doctor.\"\n",
        "    if use_openai:\n",
        "        try:\n",
        "            response = openai.ChatCompletion.create(\n",
        "                model=\"gpt-3.5-turbo\",\n",
        "                messages=[\n",
        "                    {\"role\": \"system\", \"content\": \"You are a helpful and friendly medical assistant.\"},\n",
        "                    {\"role\": \"user\", \"content\": user_input}\n",
        "                ],\n",
        "                max_tokens=300,\n",
        "                temperature=0.5\n",
        "            )\n",
        "            return response['choices'][0]['message']['content'].strip()\n",
        "        except Exception as e:\n",
        "            return f\"An error occurred: {e}\"\n",
        "    else:\n",
        "        try:\n",
        "            prompt = format_hf_prompt(user_input)\n",
        "            result = generator(prompt, max_new_tokens=200, temperature=0.5)[0]['generated_text']\n",
        "            reply = result.split(\"### Assistant:\")[-1].strip()\n",
        "            return reply\n",
        "        except Exception as e:\n",
        "            return f\"An error occurred: {e}\"\n"
      ]
    },
    {
      "cell_type": "code",
      "execution_count": null,
      "metadata": {
        "id": "gPEg8JJDL592"
      },
      "outputs": [],
      "source": [
        "generator = pipeline(\"text-generation\", model=\"distilgpt2\", device_map=\"auto\")\n",
        "generator = pipeline(\"text-generation\", model=\"HuggingFaceH4/zephyr-7b-beta\", device=0)\n",
        "from transformers import AutoTokenizer, AutoModelForCausalLM\n",
        "import torch\n",
        "\n",
        "tokenizer = AutoTokenizer.from_pretrained(\"distilgpt2\")\n",
        "model = AutoModelForCausalLM.from_pretrained(\"distilgpt2\")\n",
        "\n",
        "def get_health_response(user_input):\n",
        "    if not is_safe_query(user_input):\n",
        "        return \"I'm sorry, I can't provide medical treatment or emergency advice. Please consult a doctor.\"\n",
        "    input_ids = tokenizer.encode(user_input, return_tensors=\"pt\")\n",
        "    with torch.no_grad():\n",
        "        output = model.generate(input_ids, max_length=100, temperature=0.7, pad_token_id=tokenizer.eos_token_id)\n",
        "    response = tokenizer.decode(output[0], skip_special_tokens=True)\n",
        "    return response[len(user_input):].strip()\n"
      ]
    },
    {
      "cell_type": "code",
      "execution_count": null,
      "metadata": {
        "colab": {
          "base_uri": "https://localhost:8080/"
        },
        "id": "npqltxfBL5VN",
        "outputId": "8b0d98bd-ed71-420a-81cf-63232ffffb7b"
      },
      "outputs": [
        {
          "output_type": "stream",
          "name": "stdout",
          "text": [
            "🤖 HealthBot: Hello! I can answer general health questions. (Type 'exit' to quit)\n",
            "\n",
            "You: quit\n",
            "HealthBot: Take care! Goodbye.\n"
          ]
        }
      ],
      "source": [
        "\n",
        "def run_chatbot():\n",
        "    print(\"🤖 HealthBot: Hello! I can answer general health questions. (Type 'exit' to quit)\\n\")\n",
        "    while True:\n",
        "        user_input = input(\"You: \")\n",
        "        if user_input.lower() in ['exit', 'quit']:\n",
        "            print(\"HealthBot: Take care! Goodbye.\")\n",
        "            break\n",
        "        reply = get_health_response(user_input)\n",
        "        print(f\"HealthBot: {reply}\\n\")\n",
        "\n",
        "run_chatbot()"
      ]
    }
  ],
  "metadata": {
    "accelerator": "GPU",
    "colab": {
      "gpuType": "T4",
      "provenance": []
    },
    "kernelspec": {
      "display_name": "Python 3",
      "name": "python3"
    },
    "language_info": {
      "name": "python"
    },
    "widgets": {
      "application/vnd.jupyter.widget-state+json": {
        "08b2be794a9a414289b1683af407cf67": {
          "model_module": "@jupyter-widgets/base",
          "model_module_version": "1.2.0",
          "model_name": "LayoutModel",
          "state": {
            "_model_module": "@jupyter-widgets/base",
            "_model_module_version": "1.2.0",
            "_model_name": "LayoutModel",
            "_view_count": null,
            "_view_module": "@jupyter-widgets/base",
            "_view_module_version": "1.2.0",
            "_view_name": "LayoutView",
            "align_content": null,
            "align_items": null,
            "align_self": null,
            "border": null,
            "bottom": null,
            "display": null,
            "flex": null,
            "flex_flow": null,
            "grid_area": null,
            "grid_auto_columns": null,
            "grid_auto_flow": null,
            "grid_auto_rows": null,
            "grid_column": null,
            "grid_gap": null,
            "grid_row": null,
            "grid_template_areas": null,
            "grid_template_columns": null,
            "grid_template_rows": null,
            "height": null,
            "justify_content": null,
            "justify_items": null,
            "left": null,
            "margin": null,
            "max_height": null,
            "max_width": null,
            "min_height": null,
            "min_width": null,
            "object_fit": null,
            "object_position": null,
            "order": null,
            "overflow": null,
            "overflow_x": null,
            "overflow_y": null,
            "padding": null,
            "right": null,
            "top": null,
            "visibility": null,
            "width": null
          }
        },
        "17e64393138e42f0a8f495c22f771497": {
          "model_module": "@jupyter-widgets/controls",
          "model_module_version": "1.5.0",
          "model_name": "HBoxModel",
          "state": {
            "_dom_classes": [],
            "_model_module": "@jupyter-widgets/controls",
            "_model_module_version": "1.5.0",
            "_model_name": "HBoxModel",
            "_view_count": null,
            "_view_module": "@jupyter-widgets/controls",
            "_view_module_version": "1.5.0",
            "_view_name": "HBoxView",
            "box_style": "",
            "children": [
              "IPY_MODEL_b39759d443674f08b525e5d4f0d57f94",
              "IPY_MODEL_47aa0af21907433c9542d64c352d6d94",
              "IPY_MODEL_538826f406fa4380a4544c0957dff55b"
            ],
            "layout": "IPY_MODEL_59faebbe14da44459f9d3920adb737d5"
          }
        },
        "19fdc180ed344cd8ad8e74eed8a8f813": {
          "model_module": "@jupyter-widgets/controls",
          "model_module_version": "1.5.0",
          "model_name": "ProgressStyleModel",
          "state": {
            "_model_module": "@jupyter-widgets/controls",
            "_model_module_version": "1.5.0",
            "_model_name": "ProgressStyleModel",
            "_view_count": null,
            "_view_module": "@jupyter-widgets/base",
            "_view_module_version": "1.2.0",
            "_view_name": "StyleView",
            "bar_color": null,
            "description_width": ""
          }
        },
        "47aa0af21907433c9542d64c352d6d94": {
          "model_module": "@jupyter-widgets/controls",
          "model_module_version": "1.5.0",
          "model_name": "FloatProgressModel",
          "state": {
            "_dom_classes": [],
            "_model_module": "@jupyter-widgets/controls",
            "_model_module_version": "1.5.0",
            "_model_name": "FloatProgressModel",
            "_view_count": null,
            "_view_module": "@jupyter-widgets/controls",
            "_view_module_version": "1.5.0",
            "_view_name": "ProgressView",
            "bar_style": "success",
            "description": "",
            "description_tooltip": null,
            "layout": "IPY_MODEL_f526e6d64a964495855e074b68f93529",
            "max": 8,
            "min": 0,
            "orientation": "horizontal",
            "style": "IPY_MODEL_19fdc180ed344cd8ad8e74eed8a8f813",
            "value": 8
          }
        },
        "538826f406fa4380a4544c0957dff55b": {
          "model_module": "@jupyter-widgets/controls",
          "model_module_version": "1.5.0",
          "model_name": "HTMLModel",
          "state": {
            "_dom_classes": [],
            "_model_module": "@jupyter-widgets/controls",
            "_model_module_version": "1.5.0",
            "_model_name": "HTMLModel",
            "_view_count": null,
            "_view_module": "@jupyter-widgets/controls",
            "_view_module_version": "1.5.0",
            "_view_name": "HTMLView",
            "description": "",
            "description_tooltip": null,
            "layout": "IPY_MODEL_b518e8ccecd04cc9a896af81d92ec114",
            "placeholder": "​",
            "style": "IPY_MODEL_5c6c092e94524cc5afaf475990268468",
            "value": " 8/8 [00:58&lt;00:00,  9.49s/it]"
          }
        },
        "59faebbe14da44459f9d3920adb737d5": {
          "model_module": "@jupyter-widgets/base",
          "model_module_version": "1.2.0",
          "model_name": "LayoutModel",
          "state": {
            "_model_module": "@jupyter-widgets/base",
            "_model_module_version": "1.2.0",
            "_model_name": "LayoutModel",
            "_view_count": null,
            "_view_module": "@jupyter-widgets/base",
            "_view_module_version": "1.2.0",
            "_view_name": "LayoutView",
            "align_content": null,
            "align_items": null,
            "align_self": null,
            "border": null,
            "bottom": null,
            "display": null,
            "flex": null,
            "flex_flow": null,
            "grid_area": null,
            "grid_auto_columns": null,
            "grid_auto_flow": null,
            "grid_auto_rows": null,
            "grid_column": null,
            "grid_gap": null,
            "grid_row": null,
            "grid_template_areas": null,
            "grid_template_columns": null,
            "grid_template_rows": null,
            "height": null,
            "justify_content": null,
            "justify_items": null,
            "left": null,
            "margin": null,
            "max_height": null,
            "max_width": null,
            "min_height": null,
            "min_width": null,
            "object_fit": null,
            "object_position": null,
            "order": null,
            "overflow": null,
            "overflow_x": null,
            "overflow_y": null,
            "padding": null,
            "right": null,
            "top": null,
            "visibility": null,
            "width": null
          }
        },
        "5c6c092e94524cc5afaf475990268468": {
          "model_module": "@jupyter-widgets/controls",
          "model_module_version": "1.5.0",
          "model_name": "DescriptionStyleModel",
          "state": {
            "_model_module": "@jupyter-widgets/controls",
            "_model_module_version": "1.5.0",
            "_model_name": "DescriptionStyleModel",
            "_view_count": null,
            "_view_module": "@jupyter-widgets/base",
            "_view_module_version": "1.2.0",
            "_view_name": "StyleView",
            "description_width": ""
          }
        },
        "b39759d443674f08b525e5d4f0d57f94": {
          "model_module": "@jupyter-widgets/controls",
          "model_module_version": "1.5.0",
          "model_name": "HTMLModel",
          "state": {
            "_dom_classes": [],
            "_model_module": "@jupyter-widgets/controls",
            "_model_module_version": "1.5.0",
            "_model_name": "HTMLModel",
            "_view_count": null,
            "_view_module": "@jupyter-widgets/controls",
            "_view_module_version": "1.5.0",
            "_view_name": "HTMLView",
            "description": "",
            "description_tooltip": null,
            "layout": "IPY_MODEL_08b2be794a9a414289b1683af407cf67",
            "placeholder": "​",
            "style": "IPY_MODEL_c502a8d639a040e0807825d875b6b9f8",
            "value": "Loading checkpoint shards: 100%"
          }
        },
        "b518e8ccecd04cc9a896af81d92ec114": {
          "model_module": "@jupyter-widgets/base",
          "model_module_version": "1.2.0",
          "model_name": "LayoutModel",
          "state": {
            "_model_module": "@jupyter-widgets/base",
            "_model_module_version": "1.2.0",
            "_model_name": "LayoutModel",
            "_view_count": null,
            "_view_module": "@jupyter-widgets/base",
            "_view_module_version": "1.2.0",
            "_view_name": "LayoutView",
            "align_content": null,
            "align_items": null,
            "align_self": null,
            "border": null,
            "bottom": null,
            "display": null,
            "flex": null,
            "flex_flow": null,
            "grid_area": null,
            "grid_auto_columns": null,
            "grid_auto_flow": null,
            "grid_auto_rows": null,
            "grid_column": null,
            "grid_gap": null,
            "grid_row": null,
            "grid_template_areas": null,
            "grid_template_columns": null,
            "grid_template_rows": null,
            "height": null,
            "justify_content": null,
            "justify_items": null,
            "left": null,
            "margin": null,
            "max_height": null,
            "max_width": null,
            "min_height": null,
            "min_width": null,
            "object_fit": null,
            "object_position": null,
            "order": null,
            "overflow": null,
            "overflow_x": null,
            "overflow_y": null,
            "padding": null,
            "right": null,
            "top": null,
            "visibility": null,
            "width": null
          }
        },
        "c502a8d639a040e0807825d875b6b9f8": {
          "model_module": "@jupyter-widgets/controls",
          "model_module_version": "1.5.0",
          "model_name": "DescriptionStyleModel",
          "state": {
            "_model_module": "@jupyter-widgets/controls",
            "_model_module_version": "1.5.0",
            "_model_name": "DescriptionStyleModel",
            "_view_count": null,
            "_view_module": "@jupyter-widgets/base",
            "_view_module_version": "1.2.0",
            "_view_name": "StyleView",
            "description_width": ""
          }
        },
        "f526e6d64a964495855e074b68f93529": {
          "model_module": "@jupyter-widgets/base",
          "model_module_version": "1.2.0",
          "model_name": "LayoutModel",
          "state": {
            "_model_module": "@jupyter-widgets/base",
            "_model_module_version": "1.2.0",
            "_model_name": "LayoutModel",
            "_view_count": null,
            "_view_module": "@jupyter-widgets/base",
            "_view_module_version": "1.2.0",
            "_view_name": "LayoutView",
            "align_content": null,
            "align_items": null,
            "align_self": null,
            "border": null,
            "bottom": null,
            "display": null,
            "flex": null,
            "flex_flow": null,
            "grid_area": null,
            "grid_auto_columns": null,
            "grid_auto_flow": null,
            "grid_auto_rows": null,
            "grid_column": null,
            "grid_gap": null,
            "grid_row": null,
            "grid_template_areas": null,
            "grid_template_columns": null,
            "grid_template_rows": null,
            "height": null,
            "justify_content": null,
            "justify_items": null,
            "left": null,
            "margin": null,
            "max_height": null,
            "max_width": null,
            "min_height": null,
            "min_width": null,
            "object_fit": null,
            "object_position": null,
            "order": null,
            "overflow": null,
            "overflow_x": null,
            "overflow_y": null,
            "padding": null,
            "right": null,
            "top": null,
            "visibility": null,
            "width": null
          }
        }
      }
    }
  },
  "nbformat": 4,
  "nbformat_minor": 0
}